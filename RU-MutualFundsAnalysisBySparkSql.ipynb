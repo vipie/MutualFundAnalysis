{
 "cells": [
  {
   "cell_type": "markdown",
   "metadata": {},
   "source": [
    "# Morningstar mutual fund dataset analysis with spark sql"
   ]
  },
  {
   "cell_type": "code",
   "execution_count": 3,
   "metadata": {},
   "outputs": [
    {
     "name": "stdout",
     "output_type": "stream",
     "text": [
      "Collecting findspark\n",
      "  Downloading findspark-1.4.2-py2.py3-none-any.whl (4.2 kB)\n",
      "Installing collected packages: findspark\n",
      "Successfully installed findspark-1.4.2\n"
     ]
    }
   ],
   "source": [
    "!pip install findspark"
   ]
  },
  {
   "cell_type": "code",
   "execution_count": 4,
   "metadata": {},
   "outputs": [],
   "source": [
    "import findspark\n",
    "findspark.init()\n",
    "\n",
    "import pyspark\n",
    "sc = pyspark.SparkContext(appName='jupyter')"
   ]
  },
  {
   "cell_type": "code",
   "execution_count": 10,
   "metadata": {},
   "outputs": [],
   "source": [
    "from pyspark.sql import SparkSession, Row\n",
    "se = SparkSession(sc)"
   ]
  },
  {
   "cell_type": "code",
   "execution_count": 5,
   "metadata": {},
   "outputs": [],
   "source": [
    "import json"
   ]
  },
  {
   "cell_type": "code",
   "execution_count": 6,
   "metadata": {},
   "outputs": [
    {
     "name": "stdout",
     "output_type": "stream",
     "text": [
      "-rw-rw-r-- 1 29999 29999  87M Nov 26  2020 MS-MF.csv\r\n",
      "-rw-r--r-- 1 root  root  1.8M Jun  4 09:29 MS-MFsample.csv\r\n",
      "\r\n",
      "MSMF:\r\n",
      "total 89M\r\n",
      "-rw-rw-r-- 1 29999 29999  87M Nov 26  2020 MS-MF.csv\r\n",
      "-rw-r--r-- 1 29999 29999 1.8M Jun  4 09:29 MS-MFsample.csv\r\n"
     ]
    }
   ],
   "source": [
    "! ls -lh *MS*"
   ]
  },
  {
   "cell_type": "code",
   "execution_count": 13,
   "metadata": {},
   "outputs": [
    {
     "name": "stdout",
     "output_type": "stream",
     "text": [
      "57604\r\n"
     ]
    }
   ],
   "source": [
    "! cat MS-MF.csv | wc -l "
   ]
  },
  {
   "cell_type": "code",
   "execution_count": 10,
   "metadata": {
    "scrolled": true
   },
   "outputs": [
    {
     "name": "stdout",
     "output_type": "stream",
     "text": [
      "\r\n"
     ]
    }
   ],
   "source": [
    "! head -n 1 MS-MF.csv "
   ]
  },
  {
   "cell_type": "markdown",
   "metadata": {},
   "source": [
    "### Create DF"
   ]
  },
  {
   "cell_type": "code",
   "execution_count": 181,
   "metadata": {},
   "outputs": [
    {
     "name": "stdout",
     "output_type": "stream",
     "text": [
      "root\n",
      " |-- ticker: string (nullable = true)\n",
      " |-- isin: string (nullable = true)\n",
      " |-- fund_name: string (nullable = true)\n",
      " |-- inception_date: string (nullable = true)\n",
      " |-- category: string (nullable = true)\n",
      " |-- rating: string (nullable = true)\n",
      " |-- analyst_rating: string (nullable = true)\n",
      " |-- risk_rating: string (nullable = true)\n",
      " |-- performance_rating: string (nullable = true)\n",
      " |-- investment_strategy: string (nullable = true)\n",
      " |-- investment_managers: string (nullable = true)\n",
      " |-- dividend_frequency: string (nullable = true)\n",
      " |-- fund_benchmark: string (nullable = true)\n",
      " |-- morningstar_benchmark: string (nullable = true)\n",
      " |-- equity_style: string (nullable = true)\n",
      " |-- equity_style_score: string (nullable = true)\n",
      " |-- equity_size: string (nullable = true)\n",
      " |-- equity_size_score: string (nullable = true)\n",
      " |-- price_prospective_earnings: string (nullable = true)\n",
      " |-- price_book_ratio: string (nullable = true)\n",
      " |-- price_sales_ratio: string (nullable = true)\n",
      " |-- price_cash_flow_ratio: string (nullable = true)\n",
      " |-- dividend_yield_factor: string (nullable = true)\n",
      " |-- long_term_projected_earnings_growth: string (nullable = true)\n",
      " |-- historical_earnings_growth: string (nullable = true)\n",
      " |-- sales_growth: string (nullable = true)\n",
      " |-- cash_flow_growth: string (nullable = true)\n",
      " |-- book_value_growth: string (nullable = true)\n",
      " |-- roa: string (nullable = true)\n",
      " |-- roe: string (nullable = true)\n",
      " |-- roic: string (nullable = true)\n",
      " |-- bond_interest_rate_sensitivity: string (nullable = true)\n",
      " |-- bond_credit_quality: string (nullable = true)\n",
      " |-- average_coupon_rate: string (nullable = true)\n",
      " |-- average_credit_quality: string (nullable = true)\n",
      " |-- modified_duration: string (nullable = true)\n",
      " |-- effective_maturity: string (nullable = true)\n",
      " |-- asset_stock: string (nullable = true)\n",
      " |-- asset_bond: string (nullable = true)\n",
      " |-- asset_cash: string (nullable = true)\n",
      " |-- asset_other: string (nullable = true)\n",
      " |-- country_exposure: string (nullable = true)\n",
      " |-- sector_basic_materials: string (nullable = true)\n",
      " |-- sector_consumer_cyclical: string (nullable = true)\n",
      " |-- sector_financial_services: string (nullable = true)\n",
      " |-- sector_real_estate: string (nullable = true)\n",
      " |-- sector_consumer_defensive: string (nullable = true)\n",
      " |-- sector_healthcare: string (nullable = true)\n",
      " |-- sector_utilities: string (nullable = true)\n",
      " |-- sector_communication_services: string (nullable = true)\n",
      " |-- sector_energy: string (nullable = true)\n",
      " |-- sector_industrials: string (nullable = true)\n",
      " |-- sector_technology: string (nullable = true)\n",
      " |-- market_cap_giant: string (nullable = true)\n",
      " |-- market_cap_large: string (nullable = true)\n",
      " |-- market_cap_medium: string (nullable = true)\n",
      " |-- market_cap_small: string (nullable = true)\n",
      " |-- market_cap_micro: string (nullable = true)\n",
      " |-- credit_aaa: string (nullable = true)\n",
      " |-- credit_aa: string (nullable = true)\n",
      " |-- credit_a: string (nullable = true)\n",
      " |-- credit_bbb: string (nullable = true)\n",
      " |-- credit_bb: string (nullable = true)\n",
      " |-- credit_b: string (nullable = true)\n",
      " |-- credit_below_b: string (nullable = true)\n",
      " |-- credit_not_rated: string (nullable = true)\n",
      " |-- holdings_n_stock: string (nullable = true)\n",
      " |-- holdings_n_bonds: string (nullable = true)\n",
      " |-- ongoing_cost: string (nullable = true)\n",
      " |-- management_fees: string (nullable = true)\n",
      " |-- environmental_score: string (nullable = true)\n",
      " |-- social_score: string (nullable = true)\n",
      " |-- governance_score: string (nullable = true)\n",
      " |-- sustainability_score: string (nullable = true)\n",
      " |-- sustainability_rank: string (nullable = true)\n",
      " |-- sustainability_percentage_rank: string (nullable = true)\n",
      " |-- involvement_abortive_contraceptive: string (nullable = true)\n",
      " |-- involvement_alcohol: string (nullable = true)\n",
      " |-- involvement_animal_testing: string (nullable = true)\n",
      " |-- involvement_controversial_weapons: string (nullable = true)\n",
      " |-- involvement_gambling: string (nullable = true)\n",
      " |-- involvement_gmo: string (nullable = true)\n",
      " |-- involvement_military_contracting: string (nullable = true)\n",
      " |-- involvement_nuclear: string (nullable = true)\n",
      " |-- involvement_palm_oil: string (nullable = true)\n",
      " |-- involvement_pesticides: string (nullable = true)\n",
      " |-- involvement_small_arms: string (nullable = true)\n",
      " |-- involvement_thermal_coal: string (nullable = true)\n",
      " |-- involvement_tobacco: string (nullable = true)\n",
      " |-- latest_nav_date: string (nullable = true)\n",
      " |-- nav_per_share_currency: string (nullable = true)\n",
      " |-- nav_per_share: string (nullable = true)\n",
      " |-- shareclass_size_currency: string (nullable = true)\n",
      " |-- shareclass_size: string (nullable = true)\n",
      " |-- fund_size_currency: string (nullable = true)\n",
      " |-- fund_size: string (nullable = true)\n",
      " |-- top5_regions: string (nullable = true)\n",
      " |-- top5_holdings: string (nullable = true)\n",
      " |-- fund_trailing_return_ytd: string (nullable = true)\n",
      " |-- fund_trailing_return_3years: string (nullable = true)\n",
      " |-- fund_trailing_return_5years: string (nullable = true)\n",
      " |-- fund_trailing_return_10years: string (nullable = true)\n",
      " |-- fund_return_2019: string (nullable = true)\n",
      " |-- fund_return_2018: string (nullable = true)\n",
      " |-- fund_return_2017: string (nullable = true)\n",
      " |-- fund_return_2016: string (nullable = true)\n",
      " |-- fund_return_2015: string (nullable = true)\n",
      " |-- fund_return_2020_q3: string (nullable = true)\n",
      " |-- fund_return_2020_q2: string (nullable = true)\n",
      " |-- fund_return_2020_q1: string (nullable = true)\n",
      " |-- fund_return_2019_q4: string (nullable = true)\n",
      " |-- fund_return_2019_q3: string (nullable = true)\n",
      " |-- fund_return_2019_q2: string (nullable = true)\n",
      " |-- fund_return_2019_q1: string (nullable = true)\n",
      " |-- fund_return_2018_q4: string (nullable = true)\n",
      " |-- fund_return_2018_q3: string (nullable = true)\n",
      " |-- fund_return_2018_q2: string (nullable = true)\n",
      " |-- fund_return_2018_q1: string (nullable = true)\n",
      " |-- fund_return_2017_q4: string (nullable = true)\n",
      " |-- fund_return_2017_q3: string (nullable = true)\n",
      " |-- fund_return_2017_q2: string (nullable = true)\n",
      " |-- fund_return_2017_q1: string (nullable = true)\n",
      " |-- fund_return_2016_q4: string (nullable = true)\n",
      " |-- fund_return_2016_q3: string (nullable = true)\n",
      " |-- fund_return_2016_q2: string (nullable = true)\n",
      " |-- fund_return_2016_q1: string (nullable = true)\n",
      " |-- fund_return_2015_q4: string (nullable = true)\n",
      " |-- fund_return_2015_q3: string (nullable = true)\n",
      " |-- fund_return_2015_q2: string (nullable = true)\n",
      " |-- fund_return_2015_q1: string (nullable = true)\n",
      " |-- quarters_up: string (nullable = true)\n",
      " |-- quarters_down: string (nullable = true)\n",
      "\n"
     ]
    }
   ],
   "source": [
    "df = se.read.csv('MS-MF.csv',header= True)\n",
    "df.printSchema()\n"
   ]
  },
  {
   "cell_type": "code",
   "execution_count": 23,
   "metadata": {},
   "outputs": [],
   "source": [
    "df.registerTempTable(\"sample\")"
   ]
  },
  {
   "cell_type": "code",
   "execution_count": 24,
   "metadata": {},
   "outputs": [
    {
     "name": "stdout",
     "output_type": "stream",
     "text": [
      "+----------+\n",
      "|    ticker|\n",
      "+----------+\n",
      "|0P00000BOW|\n",
      "|0P00000ESH|\n",
      "|0P00000ESL|\n",
      "|0P00000FI7|\n",
      "|0P00000FIA|\n",
      "+----------+\n",
      "only showing top 5 rows\n",
      "\n"
     ]
    }
   ],
   "source": [
    "se.sql(\"\"\"\n",
    "select \n",
    "    ticker,fund_trailing_return_ytd\n",
    "from sample\n",
    "\"\"\").show(5)"
   ]
  },
  {
   "cell_type": "markdown",
   "metadata": {},
   "source": [
    "#### Some queries to find 'Russian stocks' funds "
   ]
  },
  {
   "cell_type": "code",
   "execution_count": 55,
   "metadata": {},
   "outputs": [
    {
     "name": "stdout",
     "output_type": "stream",
     "text": [
      "+--------------------+-----+-----+-----+\n",
      "|           fund_name|  ytd|   y3|   y5|\n",
      "+--------------------+-----+-----+-----+\n",
      "|Schroder Internat...|15.05|11.15|19.16|\n",
      "|Schroder Internat...|14.43| 10.2|18.43|\n",
      "|Schroder Internat...|14.15|10.65|18.32|\n",
      "|Schroder Internat...| 14.1| 9.72|17.78|\n",
      "|Schroder Internat...|13.78| 9.79|17.69|\n",
      "|Schroder Internat...|13.69| null| null|\n",
      "|Schroder Internat...|13.49| 9.63|17.71|\n",
      "|Schroder Internat...|13.33| 9.26|17.11|\n",
      "|Schroder Internat...|13.27| 9.56|17.66|\n",
      "|Schroder Internat...|13.01| 8.57|16.54|\n",
      "|Schroder Internat...| 12.8| 9.31|17.43|\n",
      "|Schroder Internat...|12.71| 8.64|16.45|\n",
      "|Schroder Internat...|12.69| 9.29|17.42|\n",
      "|Schroder Internat...|12.21| 8.65|16.72|\n",
      "|Schroder Internat...| 12.1| 8.64|16.72|\n",
      "|Aberdeen Standard...|-2.92| 3.61|11.94|\n",
      "|Liontrust Russia ...|-2.96|10.42| 17.6|\n",
      "|UBS (Lux) Equity ...|-3.02| 9.42|17.88|\n",
      "|UBS (Lux) Equity ...|-3.34| 9.02|17.46|\n",
      "|Aberdeen Standard...|-4.15|  3.2|12.18|\n",
      "+--------------------+-----+-----+-----+\n",
      "only showing top 20 rows\n",
      "\n"
     ]
    }
   ],
   "source": [
    "'fund_name'\n",
    "\n",
    "se.sql(\"\"\"\n",
    "select  \n",
    "   fund_name, FLOAT(fund_trailing_return_ytd) as ytd, FLOAT(fund_trailing_return_3years) as y3,\n",
    "    FLOAT(fund_trailing_return_5years) as y5\n",
    "from sample\n",
    "where \n",
    "lower(fund_name) LIKE \"%russia%\"\n",
    "order by ytd desc\n",
    "\n",
    "\"\"\").show()"
   ]
  },
  {
   "cell_type": "code",
   "execution_count": 54,
   "metadata": {},
   "outputs": [
    {
     "name": "stdout",
     "output_type": "stream",
     "text": [
      "+--------------------+-----+-----+-----+\n",
      "|           fund_name|  ytd|   y3|   y5|\n",
      "+--------------------+-----+-----+-----+\n",
      "|Schroder Internat...|15.05|11.15|19.16|\n",
      "|Schroder Internat...|14.15|10.65|18.32|\n",
      "|Liontrust Russia ...|-2.96|10.42| 17.6|\n",
      "|Schroder Internat...|14.43| 10.2|18.43|\n",
      "|Schroder Internat...|13.78| 9.79|17.69|\n",
      "|Schroder Internat...| 14.1| 9.72|17.78|\n",
      "|Schroder Internat...|13.49| 9.63|17.71|\n",
      "|Schroder Internat...|13.27| 9.56|17.66|\n",
      "|UBS (Lux) Equity ...|-3.02| 9.42|17.88|\n",
      "|Schroder Internat...| 12.8| 9.31|17.43|\n",
      "|Schroder Internat...|12.69| 9.29|17.42|\n",
      "|Schroder Internat...|13.33| 9.26|17.11|\n",
      "|UBS (Lux) Equity ...|-3.34| 9.02|17.46|\n",
      "|SEB Russia Fund C...|-9.06| 8.77|19.12|\n",
      "|Schroder Internat...|12.21| 8.65|16.72|\n",
      "|Schroder Internat...| 12.1| 8.64|16.72|\n",
      "|Schroder Internat...|12.71| 8.64|16.45|\n",
      "|Schroder Internat...|13.01| 8.57|16.54|\n",
      "|Pictet-Russian Eq...|-5.27| 8.48|20.18|\n",
      "|Liontrust Russia ...|-5.07| 8.35|16.11|\n",
      "+--------------------+-----+-----+-----+\n",
      "only showing top 20 rows\n",
      "\n"
     ]
    }
   ],
   "source": [
    "se.sql(\"\"\"\n",
    "select  \n",
    "    fund_name, FLOAT(fund_trailing_return_ytd) as ytd, FLOAT(fund_trailing_return_3years) as y3,\n",
    "    FLOAT(fund_trailing_return_5years) as y5\n",
    "from sample\n",
    "where \n",
    "lower(fund_name) LIKE \"%russia%\"\n",
    "order by y3 desc\n",
    "\n",
    "\"\"\").show()"
   ]
  },
  {
   "cell_type": "code",
   "execution_count": 53,
   "metadata": {},
   "outputs": [
    {
     "name": "stdout",
     "output_type": "stream",
     "text": [
      "+--------------------+------+-----+-----+\n",
      "|           fund_name|   ytd|   y3|   y5|\n",
      "+--------------------+------+-----+-----+\n",
      "|Pictet-Russian Eq...| -5.27| 8.48|20.18|\n",
      "|Pictet-Russian Eq...| -5.84|  7.7|19.25|\n",
      "|Pictet-Russian Eq...|  -5.9| 7.65|19.22|\n",
      "|Schroder Internat...| 15.05|11.15|19.16|\n",
      "|SEB Russia Fund C...| -9.06| 8.77|19.12|\n",
      "|Schroder Internat...| 14.43| 10.2|18.43|\n",
      "|Pictet-Russian Eq...|  -6.4| 6.97|18.42|\n",
      "|Pictet-Russian Eq...| -6.45| 6.93|18.39|\n",
      "|Pictet-Russian Eq...| -6.44| 6.93|18.34|\n",
      "|Pictet-Russian Eq...| -6.71| 6.91|18.33|\n",
      "|Schroder Internat...| 14.15|10.65|18.32|\n",
      "|SEB Russia Fund C...|-10.08| 8.11|17.97|\n",
      "|Pictet-Russian Eq...| -5.88| 7.61|17.89|\n",
      "|UBS (Lux) Equity ...| -3.02| 9.42|17.88|\n",
      "|Schroder Internat...|  14.1| 9.72|17.78|\n",
      "|Schroder Internat...| 13.49| 9.63|17.71|\n",
      "|Schroder Internat...| 13.78| 9.79|17.69|\n",
      "|Schroder Internat...| 13.27| 9.56|17.66|\n",
      "|Liontrust Russia ...| -2.96|10.42| 17.6|\n",
      "|East Capital Russ...|  -7.5| 5.74| 17.5|\n",
      "+--------------------+------+-----+-----+\n",
      "only showing top 20 rows\n",
      "\n"
     ]
    }
   ],
   "source": [
    "se.sql(\"\"\"\n",
    "select  \n",
    "    fund_name, FLOAT(fund_trailing_return_ytd) as ytd, FLOAT(fund_trailing_return_3years) as y3,\n",
    "    FLOAT(fund_trailing_return_5years) as y5\n",
    "from sample\n",
    "where \n",
    "lower(fund_name) LIKE \"%russia%\"\n",
    "\n",
    "order by y5 desc\n",
    "\n",
    "\"\"\").show()"
   ]
  },
  {
   "cell_type": "code",
   "execution_count": 76,
   "metadata": {},
   "outputs": [
    {
     "name": "stdout",
     "output_type": "stream",
     "text": [
      "+------------------------+-------------------+------------------+------------------+--------+\n",
      "|substr(fund_name, 0, 15)|                ytd|                y3|                y5|count(1)|\n",
      "+------------------------+-------------------+------------------+------------------+--------+\n",
      "|         SEB Russia Fund| -9.570000171661377| 8.440000057220459|18.545000076293945|       2|\n",
      "|         Pictet-Russian |-6.7191667556762695| 6.851818084716797| 18.47299995422363|      12|\n",
      "|         Schroder Intern|  13.38733336130778| 9.504285744258336| 17.51000009264265|      15|\n",
      "|         UBS (Lux) Equit| -4.130000034968059|  8.18333355585734| 16.99999936421712|       3|\n",
      "|         Liontrust Russi| -4.015000104904175| 9.385000228881836|16.855000495910645|       3|\n",
      "|         East Capital Ru| -8.051999950408936| 4.983999967575073|16.846000099182127|       5|\n",
      "|         DWS Russia LC E| -8.460000038146973| 5.940000057220459|16.100000381469727|       1|\n",
      "|         HSBC Global Inv|-12.973555543687608| 5.062105238437653|15.322105332424766|      45|\n",
      "|         Prosperity Capi| -9.865000247955322|2.0950000286102295|15.305000305175781|       2|\n",
      "|         BNP Paribas Fun|-10.455333264668782| 5.607999992370606|15.295555432637533|      15|\n",
      "|         Pictet-Russia I|-21.337777879503037| 6.281428609575544| 14.49000004359654|       9|\n",
      "|         JPMorgan Funds |-10.068333307902018|              6.25| 13.72166665395101|       6|\n",
      "|         Aberdeen Standa| -4.527500033378601| 2.405000001192093|11.892499923706055|       4|\n",
      "|         SEB Eastern Eur|-20.190000534057617|-8.899999618530273|3.7899999618530273|       1|\n",
      "+------------------------+-------------------+------------------+------------------+--------+\n",
      "\n"
     ]
    }
   ],
   "source": [
    "se.sql(\"\"\"\n",
    "select  \n",
    "    substr(fund_name, 0, 15) , avg(FLOAT(fund_trailing_return_ytd)) as ytd, \n",
    "    avg(FLOAT(fund_trailing_return_3years)) as y3,\n",
    "    avg(FLOAT(fund_trailing_return_5years)) as y5,\n",
    "    count(*)\n",
    "from sample\n",
    "where \n",
    "lower(fund_name) LIKE \"%russia%\"\n",
    "group by substr(fund_name, 0, 15) \n",
    "order by y5 desc\n",
    "\n",
    "\"\"\").show()"
   ]
  },
  {
   "cell_type": "code",
   "execution_count": 107,
   "metadata": {},
   "outputs": [
    {
     "name": "stdout",
     "output_type": "stream",
     "text": [
      "+--------------------+--------+--------------------+\n",
      "|            category|count(1)|    first(fund_name)|\n",
      "+--------------------+--------+--------------------+\n",
      "|       Russia Equity|     107|HSBC Global Inves...|\n",
      "|Emerging Europe e...|       1|SEB Eastern Europ...|\n",
      "|         BRIC Equity|      15|Schroder Internat...|\n",
      "+--------------------+--------+--------------------+\n",
      "\n"
     ]
    }
   ],
   "source": [
    "se.sql(\"\"\"\n",
    "select  \n",
    "     category, count(*),first(fund_name)  -- distinct(equity_style)\n",
    "from sample\n",
    "where \n",
    "lower(fund_name) LIKE \"%russia%\" \n",
    "    group by category \n",
    "--order by y5 desc\n",
    "\n",
    "\n",
    "\"\"\").show(truncate = True)"
   ]
  },
  {
   "cell_type": "code",
   "execution_count": 139,
   "metadata": {},
   "outputs": [
    {
     "name": "stdout",
     "output_type": "stream",
     "text": [
      "+------------------------+-------------------+-----------------+------------------+\n",
      "|substr(fund_name, 0, 15)|                ytd|               y3|                y5|\n",
      "+------------------------+-------------------+-----------------+------------------+\n",
      "|         SEB Russia Fund| -9.570000171661377|8.440000057220459|18.545000076293945|\n",
      "|         Pictet-Russian |-6.7191667556762695|6.851818084716797| 18.47299995422363|\n",
      "|         UBS (Lux) Equit| -4.130000034968059| 8.18333355585734| 16.99999936421712|\n",
      "|         Liontrust Russi| -4.015000104904175|9.385000228881836|16.855000495910645|\n",
      "|         East Capital Ru| -8.051999950408936|4.983999967575073|16.846000099182127|\n",
      "+------------------------+-------------------+-----------------+------------------+\n",
      "\n"
     ]
    }
   ],
   "source": [
    "se.sql(\"\"\"\n",
    "select  \n",
    "    substr(fund_name, 0, 15), avg(FLOAT(fund_trailing_return_ytd)) as ytd, \n",
    "    avg(FLOAT(fund_trailing_return_3years)) as y3,\n",
    "    avg(FLOAT(fund_trailing_return_5years)) as y5 \n",
    "    --first(equity_style)\n",
    "    --count(*)\n",
    "from sample\n",
    "where \n",
    "category = 'Russia Equity' \n",
    "--and \n",
    "--equity_style == 'Blend'\n",
    "group by substr(fund_name, 0, 15)\n",
    "order by y5 desc\n",
    "limit 5\n",
    "\"\"\").show(truncate =True)"
   ]
  },
  {
   "cell_type": "markdown",
   "metadata": {},
   "source": [
    "###  Leaders in trailing_return_5years и trailing_return_3years"
   ]
  },
  {
   "cell_type": "code",
   "execution_count": 150,
   "metadata": {},
   "outputs": [
    {
     "name": "stdout",
     "output_type": "stream",
     "text": [
      "+------------------------+\n",
      "|substr(fund_name, 0, 15)|\n",
      "+------------------------+\n",
      "|         SEB Russia Fund|\n",
      "|         Pictet-Russian |\n",
      "|         UBS (Lux) Equit|\n",
      "|         Liontrust Russi|\n",
      "|         DWS Russia LC E|\n",
      "|         HSBC Global Inv|\n",
      "|         BNP Paribas Fun|\n",
      "|         Raiffeisen-Russ|\n",
      "+------------------------+\n",
      "\n"
     ]
    }
   ],
   "source": [
    "se.sql(\"\"\"\n",
    "(select  \n",
    "    substr(fund_name, 0, 15)\n",
    "from sample\n",
    "where \n",
    "category = 'Russia Equity' \n",
    "--and \n",
    "--equity_style == 'Blend'\n",
    "group by substr(fund_name, 0, 15)\n",
    "order by avg(FLOAT(fund_trailing_return_5years)) desc \n",
    "limit 10)\n",
    "\n",
    "INTERSECT \n",
    "(select  \n",
    "    substr(fund_name, 0, 15)\n",
    "from sample\n",
    "where \n",
    "category = 'Russia Equity' \n",
    "group by substr(fund_name, 0, 15)\n",
    "order by avg(FLOAT(fund_trailing_return_3years)) desc\n",
    "limit 10)\n",
    "\n",
    "--INTERSECT \n",
    "\n",
    "--(select  \n",
    "--    substr(fund_name, 0, 15)\n",
    "--from sample\n",
    "--where \n",
    "--category = 'Russia Equity' \n",
    "--group by substr(fund_name, 0, 15)\n",
    "--order by avg(FLOAT(fund_trailing_return_ytd)) desc\n",
    "--limit 10)\n",
    "\"\"\").show(truncate =True)"
   ]
  },
  {
   "cell_type": "markdown",
   "metadata": {},
   "source": [
    "###  Get exact fund names"
   ]
  },
  {
   "cell_type": "code",
   "execution_count": 169,
   "metadata": {},
   "outputs": [
    {
     "name": "stdout",
     "output_type": "stream",
     "text": [
      "+--------------------------------+----+----+-----+--------------+\n",
      "|fund_name                       |ytd |y3  |y5   |analyst_rating|\n",
      "+--------------------------------+----+----+-----+--------------+\n",
      "|SEB Strategy Growth Fund C SEK  |9.96|4.05|9.33 |null          |\n",
      "|SEB Strategy Growth Fund C H-EUR|7.54|5.13|11.28|null          |\n",
      "+--------------------------------+----+----+-----+--------------+\n",
      "\n"
     ]
    }
   ],
   "source": [
    "se.sql(\"\"\"\n",
    "select  \n",
    "    fund_name, (FLOAT(fund_trailing_return_ytd)) as ytd, \n",
    "    (FLOAT(fund_trailing_return_3years)) as y3,\n",
    "    (FLOAT(fund_trailing_return_5years)) as y5,\n",
    "    analyst_rating\n",
    "    --first(equity_style)\n",
    "    --count(*)\n",
    "from sample\n",
    "where \n",
    "category = 'Russia Equity' \n",
    "and \n",
    "fund_name LIKE 'SEB Strategy Gr%' --'DWS Russia LC E%' --'UBS (Lux) Equit%' --'Pictet-Russian%' --'SEB Russia Fund%'\n",
    "--and analyst_rating  'null'\n",
    "--and \n",
    "--equity_style == 'Blend'\n",
    "--group by substr(fund_name, 0, 15)\n",
    "order by fund_name desc\n",
    "\n",
    "\"\"\").show(100,truncate =False)"
   ]
  },
  {
   "cell_type": "markdown",
   "metadata": {},
   "source": [
    "### Get highest return by category"
   ]
  },
  {
   "cell_type": "markdown",
   "metadata": {},
   "source": [
    "#### TODO: Need to clean data"
   ]
  },
  {
   "cell_type": "code",
   "execution_count": 176,
   "metadata": {},
   "outputs": [
    {
     "name": "stdout",
     "output_type": "stream",
     "text": [
      "+-------------------+--------------------+------------------+----+--------------------+\n",
      "|                ytd|                  y3|                y5| cnt|            category|\n",
      "+-------------------+--------------------+------------------+----+--------------------+\n",
      "|  901.9908411051347|   3.376120096055348|355781.51437501056| 550|    Other Allocation|\n",
      "| 19.741260116603918|   6.619185345315672|14.724336458890924| 639|Asia ex-Japan Equity|\n",
      "|  5.875937485054601|  2.3925581602163093| 12.87090084144661| 163|Japan Small/Mid-C...|\n",
      "| 10.572857311793737|  2.5579999446868897| 5.063333352406819|   7|SEK Moderate Allo...|\n",
      "| 0.9340946517095216|  3.7507809574272417| 3.146539161497479|1031| Alt - Multistrategy|\n",
      "| 3.9093301458079277|3.5270577254649684E7|2.7159842425209333| 222|Global Bond - GBP...|\n",
      "| 7.4748705203478165|   7.257314501800196|11.756969692078904|1936|Global Large-Cap ...|\n",
      "| 18.489230857445644|  0.7607999968528748| 7.520833344509204|  26|        Korea Equity|\n",
      "|   4.70034471976346|  1.5313043527953003| 6.799999952316284|  32|EUR Moderate Allo...|\n",
      "|-0.9200000166893005| -0.4099999964237213| 4.190000057220459|   1|NOK Cautious Allo...|\n",
      "|  15.03250002861023| -1.6675000227987766|0.7624999582767487|   8|Property - Direct...|\n",
      "|  6.045144934585129| 0.20215999810397625|5.0426548540064715| 143|EUR Diversified B...|\n",
      "|  6.190619826717072| 0.16819178108381083| 6.986027877505233| 496|Global Emerging M...|\n",
      "|   8.54750002526185|   5.939651173561118|11.024647954484108| 140|Europe Mid-Cap Eq...|\n",
      "|  8.038541634877523|   7.599318260496313| 12.50068187713623|  48|  Switzerland Equity|\n",
      "|  5.739444428020054|    3.36644446849823| 6.229090914581761|  55|CHF Cautious Allo...|\n",
      "|  54513.16817668995|  3.7336866360346566| 8.261352939465466| 559|Global High Yield...|\n",
      "| 18.384132118264507|  10.992580633009634|14.963975889136993| 132|Sector Equity Con...|\n",
      "|  -8.83119993209839| -1.8223999822884798| 7.646799983978272|  25|     Thailand Equity|\n",
      "|  6.698070164312396|   4.283333359342633| 5.693529465619256|  64|  RMB Bond - Onshore|\n",
      "+-------------------+--------------------+------------------+----+--------------------+\n",
      "only showing top 20 rows\n",
      "\n"
     ]
    }
   ],
   "source": [
    "se.sql(\"\"\"\n",
    "select  \n",
    "    -- fund_name,top5_holdings\n",
    "    avg(FLOAT(fund_trailing_return_ytd)) as ytd, \n",
    "    avg(FLOAT(fund_trailing_return_3years)) as y3,\n",
    "    avg(FLOAT(fund_trailing_return_5years)) as y5,\n",
    "    count(*) as cnt,\n",
    "    (category)\n",
    "from sample\n",
    "--where \n",
    "--lower(fund_name) LIKE \"%russia%\"\n",
    "group by category \n",
    "--order by ytd desc\n",
    "\"\"\").show(truncate=True)"
   ]
  },
  {
   "cell_type": "markdown",
   "metadata": {},
   "source": [
    "#### Get most popular morningstar_benchmark"
   ]
  },
  {
   "cell_type": "code",
   "execution_count": 184,
   "metadata": {},
   "outputs": [
    {
     "name": "stdout",
     "output_type": "stream",
     "text": [
      "+----------------------------------------+-----+\n",
      "|morningstar_benchmark                   |cnt  |\n",
      "+----------------------------------------+-----+\n",
      "|null                                    |16219|\n",
      "|MSCI ACWI NR USD                        |2204 |\n",
      "|MSCI EM NR USD                          |1899 |\n",
      "|Morningstar UK Mod Tgt Alloc NR GBP     |1612 |\n",
      "|FTSE AllSh TR GBP                       |1577 |\n",
      "|MSCI ACWI Growth NR USD                 |1278 |\n",
      "|JPM EMBI Global Diversified TR USD      |1002 |\n",
      "|Morningstar UK Mod Adv Tgt Alloc NR GBP |935  |\n",
      "|TOPIX TR JPY                            |898  |\n",
      "|Russell 1000 TR USD                     |841  |\n",
      "|BBgBarc Global Aggregate TR USD         |840  |\n",
      "|BBgBarc Global Aggregate TR Hdg EUR     |782  |\n",
      "|MSCI Europe NR EUR                      |779  |\n",
      "|Morningstar EU Mod Gbl Tgt Alloc NR EUR |768  |\n",
      "|MSCI World High Dividend Yield NR USD   |746  |\n",
      "|Cat 50%Barclays US Agg TR&50%FTSE Wld TR|717  |\n",
      "|JPM GBI-EM Global Diversified TR USD    |693  |\n",
      "|BBgBarc Global Aggregate TR Hdg USD     |675  |\n",
      "|BBgBarc Global Aggregate TR Hdg GBP     |656  |\n",
      "|Morningstar UK Mod Caut Tgt Alloc NR GBP|635  |\n",
      "+----------------------------------------+-----+\n",
      "only showing top 20 rows\n",
      "\n"
     ]
    }
   ],
   "source": [
    "se.sql(\"\"\"\n",
    "select \n",
    "    (morningstar_benchmark), count(*) as cnt\n",
    "from sample\n",
    "group by morningstar_benchmark \n",
    "order by cnt desc\n",
    "\"\"\").show(truncate =False) #.show(5)\n"
   ]
  },
  {
   "cell_type": "markdown",
   "metadata": {},
   "source": [
    "# Get highest return"
   ]
  },
  {
   "cell_type": "markdown",
   "metadata": {},
   "source": [
    "##### TODO: Need to clean data"
   ]
  },
  {
   "cell_type": "code",
   "execution_count": 180,
   "metadata": {},
   "outputs": [
    {
     "name": "stdout",
     "output_type": "stream",
     "text": [
      "+--------------------+--------------------+------------+-----+------------+\n",
      "|           fund_name|       top5_holdings|         ytd|   y3|          y5|\n",
      "+--------------------+--------------------+------------+-----+------------+\n",
      "|Epsilon Fund - Eu...|                 EUR| 6.6311002E8| null| 4.2099799E9|\n",
      "|Vanguard Emerging...|                 GBP|       261.0| null|2.66349005E9|\n",
      "|Pareto Nordic Cro...|                 NOK|    2.6198E8| null|1.85238003E9|\n",
      "|Pareto Nordic Cro...|                 EUR|         0.0| null|1.85238003E9|\n",
      "|Vanguard Emerging...|                 EUR|      161.96| null|1.57367002E9|\n",
      "|AB - Internationa...|                 USD|    2.3279E8| null|1.49905997E9|\n",
      "|AB - Internationa...|                 USD|1.00321997E9| null|1.49905997E9|\n",
      "|AB - Internationa...|                 USD|1.00321997E9| null|1.49905997E9|\n",
      "|AB - Internationa...|                 USD|    2.1786E8| null|1.46547994E9|\n",
      "|AB - Internationa...|                 GBP|    260000.0| null|1.45712998E9|\n",
      "|AB - Internationa...|                 GBP|    1.3796E8| null|1.45712998E9|\n",
      "|Vanguard Emerging...|                 EUR|      188.85| null|1.39139994E9|\n",
      "|Vanguard Emerging...|                 USD|      226.22| null|1.34551002E9|\n",
      "|Franklin K2 Alter...|                 USD|       12.04| null|1.02047002E9|\n",
      "|Vanguard Emerging...|                 USD|      140.56| null| 9.8699002E8|\n",
      "|Aegon European AB...|                 GBP|       10.48| null| 8.7401997E8|\n",
      "|Aegon European AB...|                 EUR|       10.56| null|      6.87E8|\n",
      "|DPAM INVEST B - B...|                 EUR|   4830000.0| null|    6.4196E8|\n",
      "|ARGENTA DP - Dyna...|                 EUR|     1.738E7| null|    6.3544E8|\n",
      "|Vanguard Emerging...|                 USD|      224.32| null|    6.2316E8|\n",
      "|Aegon European AB...|                 GBP|       10.17| null| 5.6895002E8|\n",
      "|Vanguard Emerging...|                 GBP|       138.9| null|     5.448E8|\n",
      "|Vanguard Emerging...|                 GBP|      157.25| null|3.73929984E8|\n",
      "|Vanguard Emerging...|                 EUR|      190.54| null|3.18750016E8|\n",
      "|Vanguard Emerging...|                 GBP|      209.63| null|    2.5711E8|\n",
      "|Aegon European AB...|                 EUR|       10.04| null|    1.9936E8|\n",
      "|Aegon European AB...|                 EUR|       10.56| null|    1.2707E8|\n",
      "|Merian Global Dyn...|                 SEK|   2850000.0| null|    1.1954E8|\n",
      "|Merian Global Dyn...|                 GBP|   4070000.0| null|    1.1954E8|\n",
      "|Merian Global Dyn...|                 USD|   1350000.0| null|    1.1954E8|\n",
      "|Merian Global Dyn...|                 GBP|    830000.0| null|    1.1954E8|\n",
      "|Merian Global Dyn...|                 CHF|    480000.0| null|    1.1954E8|\n",
      "|Merian Global Dyn...|                 USD|   5500000.0| null|    1.1954E8|\n",
      "|Merian Global Dyn...|                 EUR|      1.28E7| null|    1.1954E8|\n",
      "|Merian Global Dyn...|                 USD|     5.835E7| null|    1.1954E8|\n",
      "|Merian Global Dyn...|                 EUR|    570000.0| null|    1.1954E8|\n",
      "|Merian Global Dyn...|                 EUR|   4680000.0| null|    1.1954E8|\n",
      "|Merian Global Dyn...|                 GBP|     1.923E7| null|    1.1954E8|\n",
      "|Franklin K2 Alter...|                 USD|       11.98| null|     9.228E7|\n",
      "|Lombard Odier Fun...|                 USD|    490000.0| null|      8.62E7|\n",
      "|Lombard Odier Fun...|                 EUR|    660000.0| null|      8.62E7|\n",
      "|Lombard Odier Fun...|                 USD|     1.226E7| null|      8.62E7|\n",
      "|Lombard Odier Fun...|                 EUR|     80000.0| null|      8.62E7|\n",
      "|Lombard Odier Fun...|                 CHF|   8950000.0| null|      8.62E7|\n",
      "|Lombard Odier Fun...|                 USD|   2510000.0| null|      8.62E7|\n",
      "|Lombard Odier Fun...|                 EUR|     1.406E7| null|      8.62E7|\n",
      "|Lombard Odier Fun...|                 EUR|    170000.0| null|      8.62E7|\n",
      "|Lombard Odier Fun...|                 CHF|   2440000.0| null|      8.62E7|\n",
      "|Lombard Odier Fun...|                 EUR|   2320000.0| null|      8.62E7|\n",
      "|Lombard Odier Fun...|                 CHF|   2640000.0| null|      8.62E7|\n",
      "|Lombard Odier Fun...|                 EUR|   2040000.0| null|      8.62E7|\n",
      "|Lombard Odier Fun...|                 USD|         0.0| null|      8.62E7|\n",
      "|Lombard Odier Fun...|                 USD|    670000.0| null|      8.62E7|\n",
      "|Lombard Odier Fun...|                 EUR|    110000.0| null|      8.62E7|\n",
      "|Lombard Odier Fun...|                 CHF|    720000.0| null|      8.62E7|\n",
      "|Lombard Odier Fun...|                 GBP|    210000.0| null|      8.62E7|\n",
      "|Vanguard Emerging...|                 CHF|      131.44| null|     8.249E7|\n",
      "|BNP Paribas Funds...|                 USD|     1.534E7| null|     7.287E7|\n",
      "|BNP Paribas Funds...|                 USD|   1360000.0| null|     7.287E7|\n",
      "|BNP Paribas Funds...|                 USD|         0.0| null|     7.244E7|\n",
      "|BNP Paribas Funds...|                 USD|   6210000.0| null|     7.244E7|\n",
      "|BNP Paribas Funds...|                 USD|   2440000.0| null|     7.244E7|\n",
      "|BNP Paribas Funds...|                 USD|     4.361E7| null|     7.244E7|\n",
      "|Franklin K2 Alter...|                 USD|       12.07| null|     2.748E7|\n",
      "|Castlefield B.E.S...|                 GBP|     1.694E7| null|     1.694E7|\n",
      "|Franklin K2 Alter...|                 USD|       11.97| null|    770000.0|\n",
      "|Aegon European AB...|                 USD|        10.6| null|     10000.0|\n",
      "|Carmignac Emergen...|         907840000.0|        null| null|       39.88|\n",
      "|Carmignac Emergen...|         888610000.0|        null| null|       38.78|\n",
      "|Carmignac Emergen...|         888610000.0|        null| null|       38.61|\n",
      "|Granahan US Focus...|LivePerson Inc: 7...|       50.91|41.55|       37.75|\n",
      "|Bakersteel Global...|Fresnillo PLC: 5....|       37.05|25.81|       36.31|\n",
      "|Baillie Gifford W...|Tesla Inc: 10.41,...|        95.1|42.92|       35.97|\n",
      "|Baillie Gifford A...|Tesla Inc: 10.38,...|       100.9| 42.7|       35.57|\n",
      "|Baillie Gifford A...|Tesla Inc: 10.38,...|       98.22|42.05|       35.33|\n",
      "|Bakersteel Global...|Fresnillo PLC: 5....|       30.04|23.33|        34.9|\n",
      "|JPMorgan Funds - ...|Advanced Micro De...|       62.53|33.45|       34.85|\n",
      "|Bakersteel Global...|Fresnillo PLC: 5....|       35.62|24.32|       34.57|\n",
      "|JPMorgan Funds - ...|Advanced Micro De...|       62.27|33.12|       34.41|\n",
      "|BlackRock Global ...|Apple Inc: 4.06, ...|        62.3|32.29|       34.38|\n",
      "|JPMorgan Funds - ...|Advanced Micro De...|       62.19|33.03|       34.34|\n",
      "|Bakersteel Global...|Fresnillo PLC: 5....|       30.36|22.66|       34.31|\n",
      "|BlackRock Global ...|Apple Inc: 4.07, ...|       65.55|33.32|       34.21|\n",
      "|BlackRock Global ...|Apple Inc: 4.07, ...|        65.6| 33.3|       34.17|\n",
      "|Baillie Gifford A...|Tesla Inc: 10.38,...|       96.38|40.62|       34.01|\n",
      "|Bakersteel Global...|Fresnillo PLC: 5....|       29.27|22.64|       33.68|\n",
      "|JPMorgan Funds - ...|Advanced Micro De...|       61.34|32.32|       33.68|\n",
      "|JPMorgan Funds - ...|Advanced Micro De...|       61.85|32.42|        33.5|\n",
      "|JPMorgan Funds - ...|Advanced Micro De...|       65.92|32.64|       33.48|\n",
      "|JPMorgan Funds - ...|Advanced Micro De...|       64.34|32.63|       33.42|\n",
      "|Bakersteel Global...|Fresnillo PLC: 5....|       28.57|22.81|       33.37|\n",
      "|BlackRock Global ...|Apple Inc: 4.07, ...|       66.01|32.28|       33.27|\n",
      "|Bakersteel Global...|Fresnillo PLC: 5....|       28.41|22.47|       33.21|\n",
      "|BlackRock Global ...|Apple Inc: 4.57, ...|       63.36|31.62|       33.21|\n",
      "|BlackRock Global ...|Apple Inc: 4.57, ...|       63.37|31.61|       33.21|\n",
      "|BlackRock Global ...|Apple Inc: 4.07, ...|       64.45|32.31|        33.2|\n",
      "|BlackRock Global ...|Apple Inc: 4.07, ...|       64.47|32.31|       33.15|\n",
      "|Morgan Stanley In...|Morgan Stanley Li...|       93.29|36.52|       32.97|\n",
      "|Morgan Stanley In...|Morgan Stanley Li...|       99.82|37.58|       32.97|\n",
      "|Morgan Stanley In...|Morgan Stanley Li...|       90.11|35.83|       32.96|\n",
      "+--------------------+--------------------+------------+-----+------------+\n",
      "only showing top 100 rows\n",
      "\n"
     ]
    }
   ],
   "source": [
    "se.sql(\"\"\"\n",
    "select  \n",
    "    fund_name, top5_holdings,\n",
    "    (FLOAT(fund_trailing_return_ytd)) as ytd, \n",
    "    (FLOAT(fund_trailing_return_3years)) as y3,\n",
    "    (FLOAT(fund_trailing_return_5years)) as y5\n",
    "    --count(*) as cnt,\n",
    "    --(category)\n",
    "from sample\n",
    "--where \n",
    "--lower(fund_name) LIKE \"%russia%\"\n",
    "--group by category \n",
    "order by y5 desc\n",
    "\n",
    "\"\"\").show(100,truncate=True)"
   ]
  },
  {
   "cell_type": "markdown",
   "metadata": {},
   "source": [
    "# Stop Spark"
   ]
  },
  {
   "cell_type": "code",
   "execution_count": 37,
   "metadata": {
    "collapsed": true
   },
   "outputs": [],
   "source": [
    "sc.stop()"
   ]
  }
 ],
 "metadata": {
  "kernelspec": {
   "display_name": "Python 3",
   "language": "python",
   "name": "python3"
  },
  "language_info": {
   "codemirror_mode": {
    "name": "ipython",
    "version": 3
   },
   "file_extension": ".py",
   "mimetype": "text/x-python",
   "name": "python",
   "nbconvert_exporter": "python",
   "pygments_lexer": "ipython3",
   "version": "3.9.4"
  }
 },
 "nbformat": 4,
 "nbformat_minor": 2
}
